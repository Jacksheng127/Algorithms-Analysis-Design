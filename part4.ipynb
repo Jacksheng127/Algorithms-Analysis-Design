{
 "cells": [
  {
   "cell_type": "markdown",
   "metadata": {},
   "source": [
    "Source Code"
   ]
  },
  {
   "cell_type": "code",
   "execution_count": 1,
   "metadata": {},
   "outputs": [],
   "source": [
    "def brute_force(letter_1, letter_2):\n",
    "    differences = []  # Empty list to store the positions and differing words\n",
    "    \n",
    "    tokens1 = letter_1.split()  # Tokenize the letter_1\n",
    "    tokens2 = letter_2.split()  # Tokenize the letter_2\n",
    "    \n",
    "    maxLength = max(len(tokens1), len(tokens2))\n",
    "    \n",
    "    for i in range(maxLength):\n",
    "        token1 = tokens1[i] if i < len(tokens1) else None\n",
    "        token2 = tokens2[i] if i < len(tokens2) else None\n",
    "        \n",
    "        # If the words are different or one is missing, record the difference\n",
    "        if token1 != token2:\n",
    "            differences.append({\"position\": i, \"word1\": token1, \"word2\": token2})\n",
    "    \n",
    "    return differences"
   ]
  },
  {
   "cell_type": "markdown",
   "metadata": {},
   "source": [
    "Demonstration"
   ]
  },
  {
   "cell_type": "code",
   "execution_count": 2,
   "metadata": {},
   "outputs": [],
   "source": [
    "letter_1 = \"\"\"To My Dearest Nefertari,\n",
    "\n",
    "As I sit here amidst the grandeur of this ancient pyramid, surrounded by the whispers of the past, my thoughts turn to you, my beloved. Though miles may separate us, know that you are always in my heart, a beacon of light guiding me through the darkness of the unknown.\n",
    "\n",
    "As I embark on this journey into the depths of the pyramid, I am filled with a mixture of excitement and trepidation. The allure of uncovering ancient secrets and treasures beckons me forward, but with each step I take, I am reminded of the risks that accompany such endeavors.\n",
    "\n",
    "I cannot help but think of the life we have built together, the moments of joy and laughter we have shared, and the love that binds us together across time and space. It is your unwavering support and encouragement that give me strength in the face of uncertainty, and for that, I am eternally grateful.\n",
    "\n",
    "Though the sands of time may have long since buried the civilization that built this magnificent structure, I find solace in the knowledge that our love transcends the ages, a timeless testament to the power of the human spirit.\n",
    "\n",
    "Until we are reunited once more, know that you are always with me, guiding me through the labyrinth of life with your love and light.\n",
    "\n",
    "With all my heart,\n",
    "Your devoted.\"\"\"\n",
    "\n",
    "letter_2 = \"\"\"To My Dearest Nefertari,\n",
    "\n",
    "As I sit here amidst the grandeur of this antediluvian pyramid, surrounded by the whispers of the past, my thoughts turn to you, my beloved. Though miles may separate us, know that you are always in my heart, a beacon of light guiding me through the darkness of the unknown.\n",
    "\n",
    "As I embark on this voyage into the depths of the pyramid, I am filled with a mixture of excitement and trepidation. The allure of uncovering ancient secrets and treasures beckons me forward, but with each step I take, I am reminded of the risks that accompany such endeavors.\n",
    "\n",
    "I cannot help but think of the life we have built together, the moments of joy and laughter we have shared, and the love that binds us together within time and space. It is your unwavering support and encouragement that give me strength in the face of uncertainty, and for that, I am eternally grateful.\n",
    "\n",
    "Though the sands of time may have long since buried the society that built this magnificent structure, I find solace in the knowledge that our love transcends the ages, a timeless testament to the power of the human spirit.\n",
    "\n",
    "Until we are reunited once more, know that you are always with me, guiding me through the labyrinth of life with your love and light. \n",
    "\n",
    "With all my heart,\n",
    "Your devoted.\"\"\""
   ]
  },
  {
   "cell_type": "code",
   "execution_count": 3,
   "metadata": {},
   "outputs": [],
   "source": [
    "differences = brute_force(letter_1, letter_2)"
   ]
  },
  {
   "cell_type": "code",
   "execution_count": 4,
   "metadata": {},
   "outputs": [
    {
     "name": "stdout",
     "output_type": "stream",
     "text": [
      "At position 13, different words: ancient and antediluvian\n",
      "At position 59, different words: journey and voyage\n",
      "At position 131, different words: across and within\n",
      "At position 169, different words: civilization and society\n"
     ]
    }
   ],
   "source": [
    "# Output\n",
    "for diff in differences:\n",
    "    if diff[\"word1\"] is None:\n",
    "        print(f\"At position {diff['position']} in letter 1, missing word: {diff['word2']}\")\n",
    "    elif diff[\"word2\"] is None:\n",
    "        print(f\"At position {diff['position']} in letter 2, missing word: {diff['word1']}\")\n",
    "    else:\n",
    "        print(f\"At position {diff['position']}, different words: {diff['word1']} and {diff['word2']}\")"
   ]
  }
 ],
 "metadata": {
  "kernelspec": {
   "display_name": "Python 3",
   "language": "python",
   "name": "python3"
  },
  "language_info": {
   "codemirror_mode": {
    "name": "ipython",
    "version": 3
   },
   "file_extension": ".py",
   "mimetype": "text/x-python",
   "name": "python",
   "nbconvert_exporter": "python",
   "pygments_lexer": "ipython3",
   "version": "3.12.2"
  }
 },
 "nbformat": 4,
 "nbformat_minor": 2
}
