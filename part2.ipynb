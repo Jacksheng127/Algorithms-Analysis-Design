{
 "cells": [
  {
   "cell_type": "markdown",
   "metadata": {},
   "source": [
    "![question](image.png)"
   ]
  },
  {
   "cell_type": "markdown",
   "metadata": {},
   "source": [
    "Assume that the order of each number in the combination is not important and without repetition of number(for example, \"021\" is same as \"120\")\n",
    "\n",
    "![description](Description.png)\n",
    "\n",
    "The <b>iterative approach</b> is optimal in terms of runtime complexity because it avoids the overhead of function calls and potential stack overflow issues that might arise with recursive algorithms, and it does not suffer from the potential overhead associated with library functions used in the lexicographic order approach\n"
   ]
  },
  {
   "cell_type": "markdown",
   "metadata": {},
   "source": [
    "<h2> Pseudocode </h2>"
   ]
  },
  {
   "cell_type": "markdown",
   "metadata": {},
   "source": [
    "function generate_combinations_iterative(digits, length)\n",
    "    \n",
    "        combinations = []// Initialize an empty list to store combinations\n",
    "    \n",
    "        stack = [(\"\", 0)]// Initialize a stack with a tuple containing an empty string and 0 (representing the prefix and the start index)\n",
    "    \n",
    "        while stack is not empty:\n",
    "            prefix, start = stack.pop()\n",
    "            if length of prefix is equal to length:\n",
    "                append prefix to combinations\n",
    "            else:\n",
    "                for i from start to length of digits:\n",
    "                    push (prefix + str(digits[i]), i + 1) onto stack\n",
    "        return combinations\n",
    "\n",
    "// Define the set of digits and the length of combinations according to question\n",
    "\n",
    "digits = [0, 1, 2, 3, 4, 5, 6, 7, 8, 9]\n",
    "\n",
    "length = 3\n",
    "\n",
    "// Generate combinations using the iterative approach\n",
    "\n",
    "combinations_iterative = generate_combinations_iterative(digits, length)\n",
    "\n",
    "// Print the combinations, displaying 20 combinations per row\n",
    "\n",
    "for each index 'i' and combination 'combo' in combinations_iterative:\n",
    "\n",
    "    print combo followed by a space,\n",
    "\n",
    "    if (i + 1) is divisible by 20:\n",
    "\n",
    "        print a newline\n",
    "\n",
    "print \"Total number of possible combinations:\", length of combinations_iterative"
   ]
  },
  {
   "cell_type": "markdown",
   "metadata": {},
   "source": [
    "<h2> Running Time Complexity </h2>\n",
    "\n",
    "Best Case: O(1)\n",
    "\n",
    "Worst Case: O(C(n,k)) Where C(n, k) = n! /(k!(n-k)!)\n",
    "\n",
    "Average Case: O(C(n,k)) Where C(n, k) = n! /(k!(n-k)!) "
   ]
  },
  {
   "cell_type": "markdown",
   "metadata": {},
   "source": [
    "<h2> Code </h2>"
   ]
  },
  {
   "cell_type": "code",
   "execution_count": 39,
   "metadata": {},
   "outputs": [
    {
     "name": "stdout",
     "output_type": "stream",
     "text": [
      "Iterative Approach\n",
      "789 689 679 678 589 579 578 569 568 567 489 479 478 469 468 467 459 458 457 456 \n",
      "389 379 378 369 368 367 359 358 357 356 349 348 347 346 345 289 279 278 269 268 \n",
      "267 259 258 257 256 249 248 247 246 245 239 238 237 236 235 234 189 179 178 169 \n",
      "168 167 159 158 157 156 149 148 147 146 145 139 138 137 136 135 134 129 128 127 \n",
      "126 125 124 123 089 079 078 069 068 067 059 058 057 056 049 048 047 046 045 039 \n",
      "038 037 036 035 034 029 028 027 026 025 024 023 019 018 017 016 015 014 013 012 \n",
      "\n",
      "Total number of possible combinations: 120\n"
     ]
    }
   ],
   "source": [
    "def generate_combinations_iterative(digits, length):\n",
    "    combinations = []\n",
    "    stack = [(\"\", 0)]\n",
    "\n",
    "    while stack:\n",
    "        prefix, start = stack.pop()\n",
    "        if len(prefix) == length:\n",
    "            combinations.append(prefix)\n",
    "        else:\n",
    "            for i in range(start, len(digits)):\n",
    "                stack.append((prefix + str(digits[i]), i + 1))\n",
    "\n",
    "    return combinations\n",
    "\n",
    "# Example usage:\n",
    "print(\"Iterative Approach\")\n",
    "digits = [0, 1, 2, 3, 4, 5, 6, 7, 8, 9]\n",
    "length = 3\n",
    "combinations_iterative = generate_combinations_iterative(digits, length)\n",
    "for i, combo in enumerate(combinations_iterative):\n",
    "    print(combo, end=' ')\n",
    "    if (i + 1) % 20 == 0:\n",
    "        print()\n",
    "print(\"\\nTotal number of possible combinations:\", len(combinations_iterative))\n"
   ]
  }
 ],
 "metadata": {
  "kernelspec": {
   "display_name": "Python 3",
   "language": "python",
   "name": "python3"
  },
  "language_info": {
   "codemirror_mode": {
    "name": "ipython",
    "version": 3
   },
   "file_extension": ".py",
   "mimetype": "text/x-python",
   "name": "python",
   "nbconvert_exporter": "python",
   "pygments_lexer": "ipython3",
   "version": "3.11.0"
  }
 },
 "nbformat": 4,
 "nbformat_minor": 2
}
