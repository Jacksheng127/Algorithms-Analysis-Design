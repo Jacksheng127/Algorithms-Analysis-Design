{
 "cells": [
  {
   "cell_type": "code",
   "execution_count": null,
   "metadata": {},
   "outputs": [
    {
     "ename": "",
     "evalue": "",
     "output_type": "error",
     "traceback": [
      "\u001b[1;31mRunning cells with 'Python 3.11.0' requires the ipykernel package.\n",
      "\u001b[1;31mRun the following command to install 'ipykernel' into the Python environment. \n",
      "\u001b[1;31mCommand: 'c:/Users/SCSM11/AppData/Local/Programs/Python/Python311/python.exe -m pip install ipykernel -U --user --force-reinstall'"
     ]
    }
   ],
   "source": [
    "def generate_combinations_recursive(digits, length, prefix=\"\"):\n",
    "    if length == 0:\n",
    "        print(prefix)\n",
    "        return\n",
    "    for digit in digits:\n",
    "        generate_combinations_recursive(digits, length - 1, prefix + str(digit))\n",
    "        \n",
    "digits = [0, 1, 2, 3, 4, 5, 6, 7, 8, 9]\n",
    "length = 3\n",
    "print(\"Recursive Approach\")\n",
    "generate_combinations_recursive(digits, length)"
   ]
  }
 ],
 "metadata": {
  "kernelspec": {
   "display_name": "Python 3",
   "language": "python",
   "name": "python3"
  },
  "language_info": {
   "name": "python",
   "version": "3.11.0"
  }
 },
 "nbformat": 4,
 "nbformat_minor": 2
}
