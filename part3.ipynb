{
 "cells": [
  {
   "cell_type": "markdown",
   "metadata": {},
   "source": [
    "**Part 3: Choosing the treasures**"
   ]
  },
  {
   "cell_type": "markdown",
   "metadata": {},
   "source": [
    "![items](assets/items.jpg)"
   ]
  },
  {
   "cell_type": "markdown",
   "metadata": {},
   "source": [
    "![question](assets/question.png)"
   ]
  },
  {
   "cell_type": "markdown",
   "metadata": {},
   "source": [
    "Problem:\n",
    "Which items should he carry out in his bag first? "
   ]
  },
  {
   "cell_type": "markdown",
   "metadata": {},
   "source": [
    "Assumption\n",
    "1. Sceptre of Eternal Power is the most precious one\n",
    "2. Every item connot be broken down into pieces"
   ]
  },
  {
   "cell_type": "markdown",
   "metadata": {},
   "source": [
    "**Table of Comparison**"
   ]
  },
  {
   "cell_type": "markdown",
   "metadata": {},
   "source": [
    "| Algorithm | Aspect | Time Complexity | Advantages | Limitations |\n",
    "|---|---|---|---|---|\n",
    "| **Greedy Algorithm** | Makes local optimal choices. | O(n log n) | Simplicity, fast for small instances, require less memory | May not find optimal solution, Effectiveness may be compromised if the sorting of items by value-to weight ratio was not done correctly. |\n",
    "| **0/1 Knapsack Algorithm** | Dynamic programming approach, use table to store maximum value achievable for all possible weight within bag's capacity.| O(nW) | Guaranteed optimal solution, handles various constraints | Higher time complexity compare to greedy algorithm, memory intensive for large instances |\n",
    "| **Branch and Bound Algorithm** | Explores possibilities, eliminates non-optimal options | O(2^n) (worst case) | Guaranteed optimal solution, efficiently eliminates non-optimal options which significantly reduce the search effort | Exponentially slow for large instances, memory intensive |\n"
   ]
  },
  {
   "cell_type": "markdown",
   "metadata": {},
   "source": [
    "**Selected Algorithm: 0/1 Knapsack Algorithm**"
   ]
  },
  {
   "cell_type": "markdown",
   "metadata": {},
   "source": [
    "- Small dataset (7 items)\n",
    "- Items cannot be split into portions \n",
    "- Priceless item has the highest value\n",
    "- 0/1 Knapsack Algorithm able to find the optimal solution.\n",
    "- Greedy Algorithm is quick but not always give the best solution. \n",
    "- Branch and Bound is too complicated for small datasets.\n",
    "- Optimal solution is important \n",
    "- Choosing the most valuable item first minimizes the need for multiple trips, reducing time, effort and risk cost for each trip.\n",
    "- Leaving behind valuable items increases the risk of missing out on significant rewards.\n",
    "- Prioritizing the most valuable treasure lowers the risk of missing out on precious finds. "
   ]
  },
  {
   "cell_type": "markdown",
   "metadata": {},
   "source": [
    "**Pseudocode**"
   ]
  },
  {
   "cell_type": "markdown",
   "metadata": {},
   "source": [
    "```\n",
    "function knapsack(items, capacity):\n",
    "    n = length(items)\n",
    "    initialise a 2D array dp with dimensions (n+1) x (capacity + 1)\n",
    "\n",
    "    // Fill the dp table using dynamic programming\n",
    "    for i from 1 to n: ------------------------------------------------------------------- Outer: O(n)\n",
    "        for w from 1 to (capacity): ------------------------------------------------------ Inner: O(W)\n",
    "            if items[i - 1].weight > w: -------------------------------------------------- O(1)\n",
    "                dp[i][w] = dp[i - 1][w]\n",
    "            else:\n",
    "                dp[i][w] = maximum of (dp[i - 1][w], items[i - 1].value + dp[i - 1][w - items[i - 1].weight])\n",
    "\n",
    "    initialise an empty list selected_items\n",
    "\n",
    "    // Backtrack to find the selected items\n",
    "    i = n\n",
    "    w = capacity\n",
    "    while i > 0 and w > 0: --------------------------------------------------------------- O(n)\n",
    "        if dp[i][w] is not equal to dp[i - 1][w]: ---------------------------------------- O(1)\n",
    "            append items[i - 1] to selected_items\n",
    "            w = w - items[i - 1].weight\n",
    "        decrement i by 1\n",
    "\n",
    "    return selected_items\n",
    "```"
   ]
  },
  {
   "cell_type": "markdown",
   "metadata": {},
   "source": [
    "**Running Time Complexty**"
   ]
  },
  {
   "cell_type": "markdown",
   "metadata": {},
   "source": [
    "Time Complexity: O(nW)\n",
    "- Same for best, worst and average case\n",
    "- Always needs to fill out the entire table for all combinations of items and capacities \n",
    "- Does not depend on the specific distribution or arrangement of the item weights and values."
   ]
  },
  {
   "cell_type": "markdown",
   "metadata": {},
   "source": [
    "**Code Implementation**"
   ]
  },
  {
   "cell_type": "code",
   "execution_count": 13,
   "metadata": {},
   "outputs": [],
   "source": [
    "class Item:\n",
    "    def __init__(self, name, value, weight):\n",
    "        self.name = name\n",
    "        self.value = value\n",
    "        self.weight = weight"
   ]
  },
  {
   "cell_type": "markdown",
   "metadata": {},
   "source": [
    "Sample Input"
   ]
  },
  {
   "cell_type": "code",
   "execution_count": 14,
   "metadata": {},
   "outputs": [],
   "source": [
    "items = [\n",
    "    Item(\"Sceptre of Eternal Power\", 999, 50),\n",
    "    Item(\"The Eye of Horus Pendant\", 20, 5),  \n",
    "    Item(\"The Ankh of Immortality\", 50, 15),   \n",
    "    Item(\"The Scarab Amulet of Fortune\", 15, 2),  \n",
    "    Item(\"The Golden Mask of Osiris\", 100, 20),\n",
    "    Item(\"The Crown of the Pharaohs\", 150, 30),\n",
    "    Item(\"The Emerald Scarab of Transformation\", 30, 20)\n",
    "]"
   ]
  },
  {
   "cell_type": "markdown",
   "metadata": {},
   "source": [
    "Dynamic Programming"
   ]
  },
  {
   "cell_type": "code",
   "execution_count": 15,
   "metadata": {},
   "outputs": [],
   "source": [
    "def knapsack(items, capacity):\n",
    "    n = len(items)\n",
    "\n",
    "    # Initialize a table to store the maximum value achievable with a certain weight capacity\n",
    "    dp = [[0] * (capacity * 10 + 1) for _ in range(n + 1)]\n",
    "\n",
    "    # Fill the table using dynamic programming\n",
    "    for i in range(1, n + 1):\n",
    "        for w in range(1, capacity * 10 + 1):\n",
    "            if items[i - 1].weight > w:\n",
    "                dp[i][w] = dp[i - 1][w]\n",
    "            else:\n",
    "                dp[i][w] = max(dp[i - 1][w], items[i - 1].value + dp[i - 1][w - items[i - 1].weight])\n",
    "        \n",
    "    # Backtrack to find the selected items\n",
    "    selected_items = []\n",
    "    i, w = n, capacity * 10\n",
    "    while i > 0 and w > 0:\n",
    "        if dp[i][w] != dp[i - 1][w]:\n",
    "            selected_items.append(items[i - 1])\n",
    "            w -= items[i - 1].weight\n",
    "        i -= 1\n",
    "\n",
    "    return selected_items"
   ]
  },
  {
   "cell_type": "markdown",
   "metadata": {},
   "source": [
    "Sample Output"
   ]
  },
  {
   "cell_type": "code",
   "execution_count": 16,
   "metadata": {},
   "outputs": [
    {
     "name": "stdout",
     "output_type": "stream",
     "text": [
      "Items to carry in the bag first:\n",
      "- The Crown of the Pharaohs: $15.0 Million, 3.0kg\n",
      "- The Golden Mask of Osiris: $10.0 Million, 2.0kg\n",
      "- Sceptre of Eternal Power: Priceless, 5.0kg\n",
      "\n",
      "Total weight: 10.0kg\n",
      "Total value: $25.0 Million + Priceless\n"
     ]
    }
   ],
   "source": [
    "capacity = 10\n",
    "total_weight = 0\n",
    "total_value = 0\n",
    "contains_sceptre = False\n",
    "\n",
    "# Solve the knapsack problem\n",
    "selected_items = knapsack(items, capacity)\n",
    "\n",
    "# Print the selected items\n",
    "print(\"Items to carry in the bag first:\")\n",
    "for item in selected_items:\n",
    "    item.value /= 10\n",
    "    item.weight /= 10\n",
    "    total_weight += item.weight\n",
    "    if item.name == \"Sceptre of Eternal Power\":\n",
    "        contains_sceptre = True\n",
    "        print(\"- {}: Priceless, {}kg\".format(item.name, item.weight))\n",
    "    else:\n",
    "        total_value += item.value\n",
    "        print(\"- {}: ${} Million, {}kg\".format(item.name, item.value, item.weight))\n",
    "\n",
    "# Print the total weight and value\n",
    "print(\"\\nTotal weight: {}kg\".format(total_weight))\n",
    "if contains_sceptre:\n",
    "    print(\"Total value: ${} Million + Priceless\".format(total_value))\n",
    "else:\n",
    "    print(\"Total value: ${} Million\".format(total_value))"
   ]
  }
 ],
 "metadata": {
  "kernelspec": {
   "display_name": "Python 3",
   "language": "python",
   "name": "python3"
  },
  "language_info": {
   "codemirror_mode": {
    "name": "ipython",
    "version": 3
   },
   "file_extension": ".py",
   "mimetype": "text/x-python",
   "name": "python",
   "nbconvert_exporter": "python",
   "pygments_lexer": "ipython3",
   "version": "3.10.9"
  }
 },
 "nbformat": 4,
 "nbformat_minor": 2
}
