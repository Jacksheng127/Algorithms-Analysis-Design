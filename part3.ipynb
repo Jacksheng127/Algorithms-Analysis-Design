{
 "cells": [
  {
   "cell_type": "code",
   "execution_count": 13,
   "metadata": {},
   "outputs": [],
   "source": [
    "class Item:\n",
    "    def __init__(self, name, value, weight):\n",
    "        self.name = name\n",
    "        self.value = value\n",
    "        self.weight = weight"
   ]
  },
  {
   "cell_type": "code",
   "execution_count": 14,
   "metadata": {},
   "outputs": [],
   "source": [
    "items = [\n",
    "    Item(\"Sceptre of Eternal Power\", 99999999, 5000),\n",
    "    Item(\"The Eye of Horus Pendant\", 2000000, 500),  \n",
    "    Item(\"The Ankh of Immortality\", 5000000, 1500),   \n",
    "    Item(\"The Scarab Amulet of Fortune\", 1500000, 200),  \n",
    "    Item(\"The Golden Mask of Osiris\", 10000000, 2000),\n",
    "    Item(\"The Crown of the Pharaohs\", 15000000, 3000),\n",
    "    Item(\"The Emerald Scarab of Transformation\", 3000000, 2000)\n",
    "]"
   ]
  },
  {
   "cell_type": "code",
   "execution_count": 15,
   "metadata": {},
   "outputs": [],
   "source": [
    "def knapsack(items, capacity):\n",
    "    n = len(items)\n",
    "\n",
    "    # Initialize a table to store the maximum value achievable with a certain weight capacity\n",
    "    dp = [[0] * (capacity * 1000 + 1) for _ in range(n + 1)]\n",
    "\n",
    "    # Fill the table using dynamic programming\n",
    "    for i in range(1, n + 1):\n",
    "        for w in range(1, capacity * 1000 + 1):\n",
    "            if items[i - 1].weight > w:\n",
    "                dp[i][w] = dp[i - 1][w]\n",
    "            else:\n",
    "                dp[i][w] = max(dp[i - 1][w], items[i - 1].value + dp[i - 1][w - items[i - 1].weight])\n",
    "\n",
    "    # Backtrack to find the selected items\n",
    "    selected_items = []\n",
    "    i, w = n, capacity * 1000\n",
    "    while i > 0 and w > 0:\n",
    "        if dp[i][w] != dp[i - 1][w]:\n",
    "            selected_items.append(items[i - 1])\n",
    "            w -= items[i - 1].weight\n",
    "        i -= 1\n",
    "\n",
    "    return selected_items"
   ]
  },
  {
   "cell_type": "code",
   "execution_count": 16,
   "metadata": {},
   "outputs": [
    {
     "name": "stdout",
     "output_type": "stream",
     "text": [
      "Items to carry in the bag first:\n",
      "- The Crown of the Pharaohs: $15.0 Million, 3.0kg\n",
      "- The Golden Mask of Osiris: $10.0 Million, 2.0kg\n",
      "- Sceptre of Eternal Power: Priceless, 5.0kg\n"
     ]
    }
   ],
   "source": [
    "capacity = 10\n",
    "\n",
    "# Solve the knapsack problem\n",
    "selected_items = knapsack(items, capacity)\n",
    "\n",
    "# Print the selected items\n",
    "print(\"Items to carry in the bag first:\")\n",
    "for item in selected_items:\n",
    "    item.value /= 1000000\n",
    "    item.weight /= 1000\n",
    "    if item.name == \"Sceptre of Eternal Power\":\n",
    "        print(\"- {}: Priceless, {}kg\".format(item.name, item.weight))\n",
    "    else:\n",
    "        print(\"- {}: ${} Million, {}kg\".format(item.name, item.value, item.weight))\n"
   ]
  },
  {
   "cell_type": "code",
   "execution_count": null,
   "metadata": {},
   "outputs": [],
   "source": []
  }
 ],
 "metadata": {
  "kernelspec": {
   "display_name": "Python 3",
   "language": "python",
   "name": "python3"
  },
  "language_info": {
   "codemirror_mode": {
    "name": "ipython",
    "version": 3
   },
   "file_extension": ".py",
   "mimetype": "text/x-python",
   "name": "python",
   "nbconvert_exporter": "python",
   "pygments_lexer": "ipython3",
   "version": "3.10.9"
  }
 },
 "nbformat": 4,
 "nbformat_minor": 2
}
