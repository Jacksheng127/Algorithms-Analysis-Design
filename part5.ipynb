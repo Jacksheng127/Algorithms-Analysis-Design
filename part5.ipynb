{
 "cells": [
  {
   "cell_type": "markdown",
   "metadata": {},
   "source": [
    "# Part 5"
   ]
  },
  {
   "cell_type": "code",
   "execution_count": 5,
   "metadata": {},
   "outputs": [
    {
     "name": "stdout",
     "output_type": "stream",
     "text": [
      "Decrypted Message: The statue is burried under a tree marked with x on Cluster Island- 3\n"
     ]
    }
   ],
   "source": [
    "def caesar_cipher_decrypt(ciphertext, shift):\n",
    "    decrypted_message = ''\n",
    "    for char in ciphertext:\n",
    "        if char.isalpha():  # Check if the character is a letter\n",
    "            if char.islower():\n",
    "                decrypted_char = chr((ord(char) - shift - ord('a')) % 26 + ord('a'))  # Shift lowercase letters\n",
    "            else:\n",
    "                decrypted_char = chr((ord(char) - shift - ord('A')) % 26 + ord('A'))  # Shift uppercase letters\n",
    "        else:\n",
    "            decrypted_char = char  # Keep non-alphabetic characters unchanged\n",
    "        decrypted_message += decrypted_char\n",
    "    return decrypted_message\n",
    "\n",
    "# Encrypted message and known shift value\n",
    "encrypted_message = \"Wkh vwdwxh lv exuulhg xqghu d wuhh pdunhg zlwk a rq Foxvwhu Lvodqg- 3\"\n",
    "shift_value = 3\n",
    "\n",
    "# Decrypt the message\n",
    "decrypted_message = caesar_cipher_decrypt(encrypted_message, shift_value)\n",
    "\n",
    "# Output the decrypted message\n",
    "print(\"Decrypted Message:\", decrypted_message)"
   ]
  }
 ],
 "metadata": {
  "kernelspec": {
   "display_name": "Python 3",
   "language": "python",
   "name": "python3"
  },
  "language_info": {
   "codemirror_mode": {
    "name": "ipython",
    "version": 3
   },
   "file_extension": ".py",
   "mimetype": "text/x-python",
   "name": "python",
   "nbconvert_exporter": "python",
   "pygments_lexer": "ipython3",
   "version": "3.12.3"
  }
 },
 "nbformat": 4,
 "nbformat_minor": 2
}
